{
 "cells": [
  {
   "cell_type": "code",
   "execution_count": 24,
   "metadata": {},
   "outputs": [],
   "source": [
    "# Genearal usage\n",
    "import numpy as np\n",
    "import matplotlib.pyplot as plt\n",
    "import pandas as pd\n",
    "import seaborn as sns \n",
    "import warnings\n",
    "\n",
    "# dimention reduction\n",
    "from sklearn.preprocessing import StandardScaler\n",
    "from sklearn.decomposition import PCA\n",
    "from sklearn.linear_model import LogisticRegression\n",
    "from sklearn.cluster import KMeans\n",
    "from sklearn.mixture import GaussianMixture\n",
    "from sklearn.metrics import confusion_matrix\n",
    "from sklearn.metrics import accuracy_score, precision_score"
   ]
  },
  {
   "cell_type": "markdown",
   "metadata": {},
   "source": [
    "<img src=\"raw/Traveling.png\" width=\"600\" height=\"350\">"
   ]
  },
  {
   "cell_type": "code",
   "execution_count": 2,
   "metadata": {},
   "outputs": [],
   "source": [
    "train_data = pd.read_csv('raw/train_data.csv')\n",
    "test_data = pd.read_csv('raw/test_data.csv')"
   ]
  },
  {
   "cell_type": "markdown",
   "metadata": {},
   "source": [
    "<hr style=\"border-top: 0.5px solid #b;\">\n",
    "<b style=\"font-size: 22px;\">Task1</b> <h style=\"font-size: 18px;\"> : Conduct a preliminary analysis of the dataset. Visualize the data and report any observations that might be relevant to your tasks. </h>\n",
    "<hr style=\"border-top: 0.5px solid #b;\">"
   ]
  },
  {
   "cell_type": "code",
   "execution_count": 3,
   "metadata": {},
   "outputs": [
    {
     "data": {
      "text/html": [
       "<div>\n",
       "<style scoped>\n",
       "    .dataframe tbody tr th:only-of-type {\n",
       "        vertical-align: middle;\n",
       "    }\n",
       "\n",
       "    .dataframe tbody tr th {\n",
       "        vertical-align: top;\n",
       "    }\n",
       "\n",
       "    .dataframe thead th {\n",
       "        text-align: right;\n",
       "    }\n",
       "</style>\n",
       "<table border=\"1\" class=\"dataframe\">\n",
       "  <thead>\n",
       "    <tr style=\"text-align: right;\">\n",
       "      <th></th>\n",
       "      <th>travel_mode</th>\n",
       "      <th>TrvlTime_number</th>\n",
       "      <th>Age</th>\n",
       "      <th>indiv_trvl_frequency</th>\n",
       "      <th>HHVeh</th>\n",
       "      <th>HHsize</th>\n",
       "    </tr>\n",
       "  </thead>\n",
       "  <tbody>\n",
       "    <tr>\n",
       "      <th>count</th>\n",
       "      <td>4000.000000</td>\n",
       "      <td>4000.000000</td>\n",
       "      <td>4000.000000</td>\n",
       "      <td>4000.000000</td>\n",
       "      <td>4000.000000</td>\n",
       "      <td>4000.000000</td>\n",
       "    </tr>\n",
       "    <tr>\n",
       "      <th>mean</th>\n",
       "      <td>0.789750</td>\n",
       "      <td>1044.952107</td>\n",
       "      <td>45.013750</td>\n",
       "      <td>28.658250</td>\n",
       "      <td>1.804000</td>\n",
       "      <td>3.695250</td>\n",
       "    </tr>\n",
       "    <tr>\n",
       "      <th>std</th>\n",
       "      <td>0.407537</td>\n",
       "      <td>1424.072973</td>\n",
       "      <td>14.929259</td>\n",
       "      <td>20.390105</td>\n",
       "      <td>0.910105</td>\n",
       "      <td>1.710733</td>\n",
       "    </tr>\n",
       "    <tr>\n",
       "      <th>min</th>\n",
       "      <td>0.000000</td>\n",
       "      <td>6.000000</td>\n",
       "      <td>16.000000</td>\n",
       "      <td>3.000000</td>\n",
       "      <td>0.000000</td>\n",
       "      <td>1.000000</td>\n",
       "    </tr>\n",
       "    <tr>\n",
       "      <th>25%</th>\n",
       "      <td>1.000000</td>\n",
       "      <td>340.078000</td>\n",
       "      <td>34.000000</td>\n",
       "      <td>15.000000</td>\n",
       "      <td>1.000000</td>\n",
       "      <td>2.000000</td>\n",
       "    </tr>\n",
       "    <tr>\n",
       "      <th>50%</th>\n",
       "      <td>1.000000</td>\n",
       "      <td>660.000000</td>\n",
       "      <td>44.000000</td>\n",
       "      <td>24.000000</td>\n",
       "      <td>2.000000</td>\n",
       "      <td>4.000000</td>\n",
       "    </tr>\n",
       "    <tr>\n",
       "      <th>75%</th>\n",
       "      <td>1.000000</td>\n",
       "      <td>1318.000000</td>\n",
       "      <td>56.000000</td>\n",
       "      <td>36.000000</td>\n",
       "      <td>2.000000</td>\n",
       "      <td>5.000000</td>\n",
       "    </tr>\n",
       "    <tr>\n",
       "      <th>max</th>\n",
       "      <td>1.000000</td>\n",
       "      <td>34350.000000</td>\n",
       "      <td>89.000000</td>\n",
       "      <td>192.000000</td>\n",
       "      <td>7.000000</td>\n",
       "      <td>13.000000</td>\n",
       "    </tr>\n",
       "  </tbody>\n",
       "</table>\n",
       "</div>"
      ],
      "text/plain": [
       "       travel_mode  TrvlTime_number          Age  indiv_trvl_frequency  \\\n",
       "count  4000.000000      4000.000000  4000.000000           4000.000000   \n",
       "mean      0.789750      1044.952107    45.013750             28.658250   \n",
       "std       0.407537      1424.072973    14.929259             20.390105   \n",
       "min       0.000000         6.000000    16.000000              3.000000   \n",
       "25%       1.000000       340.078000    34.000000             15.000000   \n",
       "50%       1.000000       660.000000    44.000000             24.000000   \n",
       "75%       1.000000      1318.000000    56.000000             36.000000   \n",
       "max       1.000000     34350.000000    89.000000            192.000000   \n",
       "\n",
       "             HHVeh       HHsize  \n",
       "count  4000.000000  4000.000000  \n",
       "mean      1.804000     3.695250  \n",
       "std       0.910105     1.710733  \n",
       "min       0.000000     1.000000  \n",
       "25%       1.000000     2.000000  \n",
       "50%       2.000000     4.000000  \n",
       "75%       2.000000     5.000000  \n",
       "max       7.000000    13.000000  "
      ]
     },
     "execution_count": 3,
     "metadata": {},
     "output_type": "execute_result"
    }
   ],
   "source": [
    "train_data.describe()"
   ]
  },
  {
   "cell_type": "code",
   "execution_count": 4,
   "metadata": {},
   "outputs": [
    {
     "data": {
      "text/html": [
       "<div>\n",
       "<style scoped>\n",
       "    .dataframe tbody tr th:only-of-type {\n",
       "        vertical-align: middle;\n",
       "    }\n",
       "\n",
       "    .dataframe tbody tr th {\n",
       "        vertical-align: top;\n",
       "    }\n",
       "\n",
       "    .dataframe thead th {\n",
       "        text-align: right;\n",
       "    }\n",
       "</style>\n",
       "<table border=\"1\" class=\"dataframe\">\n",
       "  <thead>\n",
       "    <tr style=\"text-align: right;\">\n",
       "      <th></th>\n",
       "      <th>travel_mode</th>\n",
       "      <th>TrvlTime_number</th>\n",
       "      <th>Age</th>\n",
       "      <th>indiv_trvl_frequency</th>\n",
       "      <th>HHVeh</th>\n",
       "      <th>HHsize</th>\n",
       "    </tr>\n",
       "  </thead>\n",
       "  <tbody>\n",
       "    <tr>\n",
       "      <th>count</th>\n",
       "      <td>1000.000000</td>\n",
       "      <td>1000.000000</td>\n",
       "      <td>1000.000000</td>\n",
       "      <td>1000.000000</td>\n",
       "      <td>1000.000000</td>\n",
       "      <td>1000.000000</td>\n",
       "    </tr>\n",
       "    <tr>\n",
       "      <th>mean</th>\n",
       "      <td>0.783000</td>\n",
       "      <td>1108.739891</td>\n",
       "      <td>44.355000</td>\n",
       "      <td>28.402000</td>\n",
       "      <td>1.767000</td>\n",
       "      <td>3.601000</td>\n",
       "    </tr>\n",
       "    <tr>\n",
       "      <th>std</th>\n",
       "      <td>0.412409</td>\n",
       "      <td>1667.569592</td>\n",
       "      <td>14.577087</td>\n",
       "      <td>22.071782</td>\n",
       "      <td>0.949533</td>\n",
       "      <td>1.677681</td>\n",
       "    </tr>\n",
       "    <tr>\n",
       "      <th>min</th>\n",
       "      <td>0.000000</td>\n",
       "      <td>19.999980</td>\n",
       "      <td>16.000000</td>\n",
       "      <td>3.000000</td>\n",
       "      <td>0.000000</td>\n",
       "      <td>1.000000</td>\n",
       "    </tr>\n",
       "    <tr>\n",
       "      <th>25%</th>\n",
       "      <td>1.000000</td>\n",
       "      <td>368.750000</td>\n",
       "      <td>33.000000</td>\n",
       "      <td>14.000000</td>\n",
       "      <td>1.000000</td>\n",
       "      <td>2.000000</td>\n",
       "    </tr>\n",
       "    <tr>\n",
       "      <th>50%</th>\n",
       "      <td>1.000000</td>\n",
       "      <td>699.008500</td>\n",
       "      <td>43.000000</td>\n",
       "      <td>22.000000</td>\n",
       "      <td>2.000000</td>\n",
       "      <td>4.000000</td>\n",
       "    </tr>\n",
       "    <tr>\n",
       "      <th>75%</th>\n",
       "      <td>1.000000</td>\n",
       "      <td>1370.890000</td>\n",
       "      <td>55.000000</td>\n",
       "      <td>35.250000</td>\n",
       "      <td>2.000000</td>\n",
       "      <td>5.000000</td>\n",
       "    </tr>\n",
       "    <tr>\n",
       "      <th>max</th>\n",
       "      <td>1.000000</td>\n",
       "      <td>37764.000000</td>\n",
       "      <td>94.000000</td>\n",
       "      <td>192.000000</td>\n",
       "      <td>7.000000</td>\n",
       "      <td>12.000000</td>\n",
       "    </tr>\n",
       "  </tbody>\n",
       "</table>\n",
       "</div>"
      ],
      "text/plain": [
       "       travel_mode  TrvlTime_number          Age  indiv_trvl_frequency  \\\n",
       "count  1000.000000      1000.000000  1000.000000           1000.000000   \n",
       "mean      0.783000      1108.739891    44.355000             28.402000   \n",
       "std       0.412409      1667.569592    14.577087             22.071782   \n",
       "min       0.000000        19.999980    16.000000              3.000000   \n",
       "25%       1.000000       368.750000    33.000000             14.000000   \n",
       "50%       1.000000       699.008500    43.000000             22.000000   \n",
       "75%       1.000000      1370.890000    55.000000             35.250000   \n",
       "max       1.000000     37764.000000    94.000000            192.000000   \n",
       "\n",
       "             HHVeh       HHsize  \n",
       "count  1000.000000  1000.000000  \n",
       "mean      1.767000     3.601000  \n",
       "std       0.949533     1.677681  \n",
       "min       0.000000     1.000000  \n",
       "25%       1.000000     2.000000  \n",
       "50%       2.000000     4.000000  \n",
       "75%       2.000000     5.000000  \n",
       "max       7.000000    12.000000  "
      ]
     },
     "execution_count": 4,
     "metadata": {},
     "output_type": "execute_result"
    }
   ],
   "source": [
    "test_data.describe()"
   ]
  },
  {
   "cell_type": "markdown",
   "metadata": {},
   "source": [
    "Overall statistics looks very similar which indicates a successful random sampling between train and test dataset."
   ]
  },
  {
   "cell_type": "code",
   "execution_count": 5,
   "metadata": {},
   "outputs": [
    {
     "data": {
      "text/plain": [
       "travel_mode               int64\n",
       "TrvlTime_number         float64\n",
       "Age                       int64\n",
       "indiv_trvl_frequency      int64\n",
       "HHVeh                     int64\n",
       "HHsize                    int64\n",
       "dtype: object"
      ]
     },
     "execution_count": 5,
     "metadata": {},
     "output_type": "execute_result"
    }
   ],
   "source": [
    "train_data.dtypes"
   ]
  },
  {
   "cell_type": "markdown",
   "metadata": {},
   "source": [
    "All of the columns are numeric and thus we can feed the data to pca model without preprocessing other types of data such as object or datetime."
   ]
  },
  {
   "cell_type": "code",
   "execution_count": 6,
   "metadata": {},
   "outputs": [
    {
     "data": {
      "text/plain": [
       "array([[<Axes: title={'center': 'travel_mode'}>,\n",
       "        <Axes: title={'center': 'TrvlTime_number'}>],\n",
       "       [<Axes: title={'center': 'Age'}>,\n",
       "        <Axes: title={'center': 'indiv_trvl_frequency'}>],\n",
       "       [<Axes: title={'center': 'HHVeh'}>,\n",
       "        <Axes: title={'center': 'HHsize'}>]], dtype=object)"
      ]
     },
     "execution_count": 6,
     "metadata": {},
     "output_type": "execute_result"
    },
    {
     "data": {
      "image/png": "[encoded data removed]",
      "text/plain": [
       "<Figure size 1000x1000 with 6 Axes>"
      ]
     },
     "metadata": {},
     "output_type": "display_data"
    }
   ],
   "source": [
    "train_data.hist(figsize = (10,10))"
   ]
  },
  {
   "cell_type": "markdown",
   "metadata": {},
   "source": [
    "There are reletively large gaps in scale of each variable.  Standardization would be necessary before conducting pca/clustering."
   ]
  },
  {
   "cell_type": "code",
   "execution_count": 7,
   "metadata": {},
   "outputs": [
    {
     "data": {
      "text/html": [
       "<div>\n",
       "<style scoped>\n",
       "    .dataframe tbody tr th:only-of-type {\n",
       "        vertical-align: middle;\n",
       "    }\n",
       "\n",
       "    .dataframe tbody tr th {\n",
       "        vertical-align: top;\n",
       "    }\n",
       "\n",
       "    .dataframe thead th {\n",
       "        text-align: right;\n",
       "    }\n",
       "</style>\n",
       "<table border=\"1\" class=\"dataframe\">\n",
       "  <thead>\n",
       "    <tr style=\"text-align: right;\">\n",
       "      <th></th>\n",
       "      <th>travel_mode</th>\n",
       "      <th>TrvlTime_number</th>\n",
       "      <th>Age</th>\n",
       "      <th>indiv_trvl_frequency</th>\n",
       "      <th>HHVeh</th>\n",
       "      <th>HHsize</th>\n",
       "    </tr>\n",
       "  </thead>\n",
       "  <tbody>\n",
       "    <tr>\n",
       "      <th>travel_mode</th>\n",
       "      <td>1.000000</td>\n",
       "      <td>0.158679</td>\n",
       "      <td>0.104993</td>\n",
       "      <td>0.233447</td>\n",
       "      <td>0.377664</td>\n",
       "      <td>0.005274</td>\n",
       "    </tr>\n",
       "    <tr>\n",
       "      <th>TrvlTime_number</th>\n",
       "      <td>0.158679</td>\n",
       "      <td>1.000000</td>\n",
       "      <td>0.022430</td>\n",
       "      <td>0.007686</td>\n",
       "      <td>0.108580</td>\n",
       "      <td>-0.034190</td>\n",
       "    </tr>\n",
       "    <tr>\n",
       "      <th>Age</th>\n",
       "      <td>0.104993</td>\n",
       "      <td>0.022430</td>\n",
       "      <td>1.000000</td>\n",
       "      <td>-0.004295</td>\n",
       "      <td>0.022688</td>\n",
       "      <td>-0.325799</td>\n",
       "    </tr>\n",
       "    <tr>\n",
       "      <th>indiv_trvl_frequency</th>\n",
       "      <td>0.233447</td>\n",
       "      <td>0.007686</td>\n",
       "      <td>-0.004295</td>\n",
       "      <td>1.000000</td>\n",
       "      <td>0.594961</td>\n",
       "      <td>0.185159</td>\n",
       "    </tr>\n",
       "    <tr>\n",
       "      <th>HHVeh</th>\n",
       "      <td>0.377664</td>\n",
       "      <td>0.108580</td>\n",
       "      <td>0.022688</td>\n",
       "      <td>0.594961</td>\n",
       "      <td>1.000000</td>\n",
       "      <td>0.180699</td>\n",
       "    </tr>\n",
       "    <tr>\n",
       "      <th>HHsize</th>\n",
       "      <td>0.005274</td>\n",
       "      <td>-0.034190</td>\n",
       "      <td>-0.325799</td>\n",
       "      <td>0.185159</td>\n",
       "      <td>0.180699</td>\n",
       "      <td>1.000000</td>\n",
       "    </tr>\n",
       "  </tbody>\n",
       "</table>\n",
       "</div>"
      ],
      "text/plain": [
       "                      travel_mode  TrvlTime_number       Age  \\\n",
       "travel_mode              1.000000         0.158679  0.104993   \n",
       "TrvlTime_number          0.158679         1.000000  0.022430   \n",
       "Age                      0.104993         0.022430  1.000000   \n",
       "indiv_trvl_frequency     0.233447         0.007686 -0.004295   \n",
       "HHVeh                    0.377664         0.108580  0.022688   \n",
       "HHsize                   0.005274        -0.034190 -0.325799   \n",
       "\n",
       "                      indiv_trvl_frequency     HHVeh    HHsize  \n",
       "travel_mode                       0.233447  0.377664  0.005274  \n",
       "TrvlTime_number                   0.007686  0.108580 -0.034190  \n",
       "Age                              -0.004295  0.022688 -0.325799  \n",
       "indiv_trvl_frequency              1.000000  0.594961  0.185159  \n",
       "HHVeh                             0.594961  1.000000  0.180699  \n",
       "HHsize                            0.185159  0.180699  1.000000  "
      ]
     },
     "execution_count": 7,
     "metadata": {},
     "output_type": "execute_result"
    }
   ],
   "source": [
    "train_data.corr()"
   ]
  },
  {
   "cell_type": "markdown",
   "metadata": {},
   "source": [
    "There are a few autocorrelated variables such as Age and HHsize, or HHVeh and infiv_trvl_frequency.  <br>\n",
    "This can be taken care of by conducting PCA before clustering."
   ]
  },
  {
   "cell_type": "markdown",
   "metadata": {},
   "source": [
    "<hr style=\"border-top: 0.5px solid #b;\">\n",
    "<b style=\"font-size: 22px;\">Task2</b> <h style=\"font-size: 18px;\">  : Data Preprocessing: Standardize the dataset and use Principal Component Analysis (PCA) to reduce the dimensionality of the dataset (nominate an appropriate number of principal components to represent at least 90% variation in the data). Note that the dataset is already split into a training set and a test set. You should use them directly. </h>\n",
    "<hr style=\"border-top: 0.5px solid #b;\">"
   ]
  },
  {
   "cell_type": "markdown",
   "metadata": {},
   "source": [
    "##### 1) Standardize the dataset"
   ]
  },
  {
   "cell_type": "markdown",
   "metadata": {},
   "source": [
    "Introduce the standardize function which implements the following operations to the input dataframe(train_data or test_data)\n",
    "- change the df shape so it only includes the columns with independent variables\n",
    "- initiate StandardScaler and fit&transform the reshaped df\n",
    "- convert back the standardized arrays into pandas df\n",
    "- insert back the dependent variable (travel_mode) to the df\n",
    "- return df"
   ]
  },
  {
   "cell_type": "code",
   "execution_count": 8,
   "metadata": {},
   "outputs": [],
   "source": [
    "def standardize(df):\n",
    "    df_stmd = df.drop('travel_mode', axis = 1)\n",
    "    scaler = StandardScaler()\n",
    "    scaled_df = scaler.fit_transform(df_stmd)\n",
    "    scaled_df = pd.DataFrame(scaled_df, columns = df_stmd.columns)\n",
    "    scaled_df['travel_mode'] = df['travel_mode']\n",
    "    scaled_df.insert(0, 'travel_mode', scaled_df.pop('travel_mode'))\n",
    "    return scaled_df"
   ]
  },
  {
   "cell_type": "markdown",
   "metadata": {},
   "source": [
    "apply standardize function to both data"
   ]
  },
  {
   "cell_type": "code",
   "execution_count": 9,
   "metadata": {},
   "outputs": [],
   "source": [
    "train_data_std = standardize(train_data)\n",
    "test_data_std = standardize(test_data)"
   ]
  },
  {
   "cell_type": "markdown",
   "metadata": {},
   "source": [
    "check if the transformation was successful be looking at the head of df and look at mean and sd (whether they are around 0 and 1 respectively)"
   ]
  },
  {
   "cell_type": "code",
   "execution_count": 10,
   "metadata": {},
   "outputs": [
    {
     "data": {
      "text/html": [
       "<div>\n",
       "<style scoped>\n",
       "    .dataframe tbody tr th:only-of-type {\n",
       "        vertical-align: middle;\n",
       "    }\n",
       "\n",
       "    .dataframe tbody tr th {\n",
       "        vertical-align: top;\n",
       "    }\n",
       "\n",
       "    .dataframe thead th {\n",
       "        text-align: right;\n",
       "    }\n",
       "</style>\n",
       "<table border=\"1\" class=\"dataframe\">\n",
       "  <thead>\n",
       "    <tr style=\"text-align: right;\">\n",
       "      <th></th>\n",
       "      <th>travel_mode</th>\n",
       "      <th>TrvlTime_number</th>\n",
       "      <th>Age</th>\n",
       "      <th>indiv_trvl_frequency</th>\n",
       "      <th>HHVeh</th>\n",
       "      <th>HHsize</th>\n",
       "    </tr>\n",
       "  </thead>\n",
       "  <tbody>\n",
       "    <tr>\n",
       "      <th>0</th>\n",
       "      <td>0</td>\n",
       "      <td>-0.61661</td>\n",
       "      <td>0.066070</td>\n",
       "      <td>1.243001</td>\n",
       "      <td>1.314298</td>\n",
       "      <td>0.76278</td>\n",
       "    </tr>\n",
       "    <tr>\n",
       "      <th>1</th>\n",
       "      <td>1</td>\n",
       "      <td>-0.10180</td>\n",
       "      <td>0.133061</td>\n",
       "      <td>-0.228485</td>\n",
       "      <td>1.314298</td>\n",
       "      <td>0.76278</td>\n",
       "    </tr>\n",
       "    <tr>\n",
       "      <th>2</th>\n",
       "      <td>1</td>\n",
       "      <td>0.13347</td>\n",
       "      <td>-0.469858</td>\n",
       "      <td>-0.424683</td>\n",
       "      <td>0.215387</td>\n",
       "      <td>0.76278</td>\n",
       "    </tr>\n",
       "  </tbody>\n",
       "</table>\n",
       "</div>"
      ],
      "text/plain": [
       "   travel_mode  TrvlTime_number       Age  indiv_trvl_frequency     HHVeh  \\\n",
       "0            0         -0.61661  0.066070              1.243001  1.314298   \n",
       "1            1         -0.10180  0.133061             -0.228485  1.314298   \n",
       "2            1          0.13347 -0.469858             -0.424683  0.215387   \n",
       "\n",
       "    HHsize  \n",
       "0  0.76278  \n",
       "1  0.76278  \n",
       "2  0.76278  "
      ]
     },
     "execution_count": 10,
     "metadata": {},
     "output_type": "execute_result"
    }
   ],
   "source": [
    "train_data_std.head(3)"
   ]
  },
  {
   "cell_type": "code",
   "execution_count": 11,
   "metadata": {},
   "outputs": [
    {
     "data": {
      "text/html": [
       "<div>\n",
       "<style scoped>\n",
       "    .dataframe tbody tr th:only-of-type {\n",
       "        vertical-align: middle;\n",
       "    }\n",
       "\n",
       "    .dataframe tbody tr th {\n",
       "        vertical-align: top;\n",
       "    }\n",
       "\n",
       "    .dataframe thead th {\n",
       "        text-align: right;\n",
       "    }\n",
       "</style>\n",
       "<table border=\"1\" class=\"dataframe\">\n",
       "  <thead>\n",
       "    <tr style=\"text-align: right;\">\n",
       "      <th></th>\n",
       "      <th>travel_mode</th>\n",
       "      <th>TrvlTime_number</th>\n",
       "      <th>Age</th>\n",
       "      <th>indiv_trvl_frequency</th>\n",
       "      <th>HHVeh</th>\n",
       "      <th>HHsize</th>\n",
       "    </tr>\n",
       "  </thead>\n",
       "  <tbody>\n",
       "    <tr>\n",
       "      <th>count</th>\n",
       "      <td>4000.000000</td>\n",
       "      <td>4.000000e+03</td>\n",
       "      <td>4.000000e+03</td>\n",
       "      <td>4.000000e+03</td>\n",
       "      <td>4.000000e+03</td>\n",
       "      <td>4.000000e+03</td>\n",
       "    </tr>\n",
       "    <tr>\n",
       "      <th>mean</th>\n",
       "      <td>0.789750</td>\n",
       "      <td>1.225686e-16</td>\n",
       "      <td>-1.065814e-16</td>\n",
       "      <td>6.217249e-17</td>\n",
       "      <td>-4.884981e-17</td>\n",
       "      <td>-1.332268e-17</td>\n",
       "    </tr>\n",
       "    <tr>\n",
       "      <th>std</th>\n",
       "      <td>0.407537</td>\n",
       "      <td>1.000125e+00</td>\n",
       "      <td>1.000125e+00</td>\n",
       "      <td>1.000125e+00</td>\n",
       "      <td>1.000125e+00</td>\n",
       "      <td>1.000125e+00</td>\n",
       "    </tr>\n",
       "    <tr>\n",
       "      <th>min</th>\n",
       "      <td>0.000000</td>\n",
       "      <td>-7.296550e-01</td>\n",
       "      <td>-1.943658e+00</td>\n",
       "      <td>-1.258525e+00</td>\n",
       "      <td>-1.982437e+00</td>\n",
       "      <td>-1.575691e+00</td>\n",
       "    </tr>\n",
       "    <tr>\n",
       "      <th>25%</th>\n",
       "      <td>1.000000</td>\n",
       "      <td>-4.950324e-01</td>\n",
       "      <td>-7.378214e-01</td>\n",
       "      <td>-6.699307e-01</td>\n",
       "      <td>-8.835250e-01</td>\n",
       "      <td>-9.910731e-01</td>\n",
       "    </tr>\n",
       "    <tr>\n",
       "      <th>50%</th>\n",
       "      <td>1.000000</td>\n",
       "      <td>-2.703515e-01</td>\n",
       "      <td>-6.791206e-02</td>\n",
       "      <td>-2.284850e-01</td>\n",
       "      <td>2.153867e-01</td>\n",
       "      <td>1.781622e-01</td>\n",
       "    </tr>\n",
       "    <tr>\n",
       "      <th>75%</th>\n",
       "      <td>1.000000</td>\n",
       "      <td>1.917613e-01</td>\n",
       "      <td>7.359792e-01</td>\n",
       "      <td>3.601094e-01</td>\n",
       "      <td>2.153867e-01</td>\n",
       "      <td>7.627799e-01</td>\n",
       "    </tr>\n",
       "    <tr>\n",
       "      <th>max</th>\n",
       "      <td>1.000000</td>\n",
       "      <td>2.339010e+01</td>\n",
       "      <td>2.946680e+00</td>\n",
       "      <td>8.011836e+00</td>\n",
       "      <td>5.709945e+00</td>\n",
       "      <td>5.439721e+00</td>\n",
       "    </tr>\n",
       "  </tbody>\n",
       "</table>\n",
       "</div>"
      ],
      "text/plain": [
       "       travel_mode  TrvlTime_number           Age  indiv_trvl_frequency  \\\n",
       "count  4000.000000     4.000000e+03  4.000000e+03          4.000000e+03   \n",
       "mean      0.789750     1.225686e-16 -1.065814e-16          6.217249e-17   \n",
       "std       0.407537     1.000125e+00  1.000125e+00          1.000125e+00   \n",
       "min       0.000000    -7.296550e-01 -1.943658e+00         -1.258525e+00   \n",
       "25%       1.000000    -4.950324e-01 -7.378214e-01         -6.699307e-01   \n",
       "50%       1.000000    -2.703515e-01 -6.791206e-02         -2.284850e-01   \n",
       "75%       1.000000     1.917613e-01  7.359792e-01          3.601094e-01   \n",
       "max       1.000000     2.339010e+01  2.946680e+00          8.011836e+00   \n",
       "\n",
       "              HHVeh        HHsize  \n",
       "count  4.000000e+03  4.000000e+03  \n",
       "mean  -4.884981e-17 -1.332268e-17  \n",
       "std    1.000125e+00  1.000125e+00  \n",
       "min   -1.982437e+00 -1.575691e+00  \n",
       "25%   -8.835250e-01 -9.910731e-01  \n",
       "50%    2.153867e-01  1.781622e-01  \n",
       "75%    2.153867e-01  7.627799e-01  \n",
       "max    5.709945e+00  5.439721e+00  "
      ]
     },
     "execution_count": 11,
     "metadata": {},
     "output_type": "execute_result"
    }
   ],
   "source": [
    "train_data_std.describe()"
   ]
  },
  {
   "cell_type": "markdown",
   "metadata": {},
   "source": [
    "##### 2) Dimention Reduction through PCA"
   ]
  },
  {
   "cell_type": "markdown",
   "metadata": {},
   "source": [
    "Introduce the standardize function which implements the following operations to the input dataframe(train_data_std or test_data_std)\n",
    "1. conducting PCA\n",
    "2. Calculate the variance ratio of each PC\n",
    "3. Drawing screeplot to visualize 2.\n",
    "4. calculate the contribution of each PC towards the original variables\n",
    "5. calculate the predicted result per PC, draw histogram and return data in dataframe format."
   ]
  },
  {
   "cell_type": "code",
   "execution_count": 12,
   "metadata": {},
   "outputs": [],
   "source": [
    "def executePCA(df):\n",
    "    # conduct PCA\n",
    "    df_pca = df.drop('travel_mode', axis = 1)\n",
    "    pca = PCA(n_components = df_pca.shape[1])\n",
    "    pca.fit(df_pca)\n",
    "    pca_pred = pca.transform(df_pca)\n",
    "\n",
    "    # calculate the variance ratio of each PC\n",
    "    variance_ratio = [round(variance_ratio, 5) for variance_ratio in pca.explained_variance_ratio_]\n",
    "    print('variance_ratio of each PC:', variance_ratio)\n",
    "\n",
    "    # scree plot\n",
    "    plt.figure()\n",
    "    plt.figure()\n",
    "    plt.plot([0] + list(range(1, len(variance_ratio) + 1)), [0] + list(np.cumsum(pca.explained_variance_ratio_)))\n",
    "    plt.hlines(y = 0.90, xmin = 0, xmax = len(variance_ratio) , color = 'r', linewidth = 0.7)\n",
    "    plt.xlabel('Principal Component')\n",
    "    plt.ylabel('Cumulative Explained Variance Ratio')\n",
    "    plt.title('Scree Plot')\n",
    "    plt.grid(True)\n",
    "    plt.show()\n",
    "\n",
    "    # contribution by PC\n",
    "    contribution = pd.DataFrame(pca.components_)\n",
    "    PCindex = ['PC' + str(i + 1) for i in range(df_pca.shape[1])]\n",
    "    contribution.index = PCindex\n",
    "    contribution.columns = [df_pca.columns[0:]]\n",
    "    print(contribution)\n",
    "\n",
    "    # predition\n",
    "    pca_pred_df = pd.DataFrame(pca_pred,\n",
    "                           columns = [\"PC{}\".format(x + 1) for x in range(len(df_pca.columns))]\n",
    "                           )\n",
    "    \n",
    "    # draw histogram\n",
    "    pca_pred_df.hist(figsize = (8,7))\n",
    "    \n",
    "    return pca_pred_df\n"
   ]
  },
  {
   "cell_type": "markdown",
   "metadata": {},
   "source": [
    "Conduct PCA for train data"
   ]
  },
  {
   "cell_type": "code",
   "execution_count": 13,
   "metadata": {},
   "outputs": [
    {
     "name": "stdout",
     "output_type": "stream",
     "text": [
      "variance_ratio of each PC: [0.34276, 0.2539, 0.19762, 0.12658, 0.07914]\n"
     ]
    },
    {
     "data": {
      "text/plain": [
       "<Figure size 640x480 with 0 Axes>"
      ]
     },
     "metadata": {},
     "output_type": "display_data"
    },
    {
     "data": {
      "image/png": "[encoded data removed]",
      "text/plain": [
       "<Figure size 640x480 with 1 Axes>"
      ]
     },
     "metadata": {},
     "output_type": "display_data"
    },
    {
     "name": "stdout",
     "output_type": "stream",
     "text": [
      "    TrvlTime_number       Age indiv_trvl_frequency     HHVeh    HHsize\n",
      "PC1        0.079706 -0.161969             0.635794  0.637249  0.396350\n",
      "PC2        0.246739  0.711544             0.221017  0.274890 -0.555349\n",
      "PC3        0.956332 -0.218188            -0.183350 -0.028408  0.058308\n",
      "PC4        0.062927  0.646430            -0.193496 -0.103336  0.728045\n",
      "PC5        0.119319  0.044639             0.689826 -0.711944  0.032340\n"
     ]
    },
    {
     "data": {
      "image/png": "[encoded data removed]",
      "text/plain": [
       "<Figure size 800x700 with 6 Axes>"
      ]
     },
     "metadata": {},
     "output_type": "display_data"
    }
   ],
   "source": [
    "pca_pred_train = executePCA(train_data_std)"
   ]
  },
  {
   "cell_type": "markdown",
   "metadata": {},
   "source": [
    "Possible interpretation of each PC:\n",
    "- PC1: Frequent travelers who own more vehicles.\n",
    "- PC2: Older people with small householdsize.\n",
    "- PC3: Travelers who takes more time when traveling\n",
    "- PC4: Older people with large householdsize."
   ]
  },
  {
   "cell_type": "code",
   "execution_count": 14,
   "metadata": {},
   "outputs": [
    {
     "data": {
      "text/html": [
       "<div>\n",
       "<style scoped>\n",
       "    .dataframe tbody tr th:only-of-type {\n",
       "        vertical-align: middle;\n",
       "    }\n",
       "\n",
       "    .dataframe tbody tr th {\n",
       "        vertical-align: top;\n",
       "    }\n",
       "\n",
       "    .dataframe thead th {\n",
       "        text-align: right;\n",
       "    }\n",
       "</style>\n",
       "<table border=\"1\" class=\"dataframe\">\n",
       "  <thead>\n",
       "    <tr style=\"text-align: right;\">\n",
       "      <th></th>\n",
       "      <th>PC1</th>\n",
       "      <th>PC2</th>\n",
       "      <th>PC3</th>\n",
       "      <th>PC4</th>\n",
       "      <th>PC5</th>\n",
       "    </tr>\n",
       "  </thead>\n",
       "  <tbody>\n",
       "    <tr>\n",
       "      <th>0</th>\n",
       "      <td>1.870306</td>\n",
       "      <td>0.107272</td>\n",
       "      <td>-0.824864</td>\n",
       "      <td>0.182916</td>\n",
       "      <td>-0.124208</td>\n",
       "    </tr>\n",
       "    <tr>\n",
       "      <th>1</th>\n",
       "      <td>0.964927</td>\n",
       "      <td>-0.043260</td>\n",
       "      <td>-0.077355</td>\n",
       "      <td>0.543343</td>\n",
       "      <td>-1.074861</td>\n",
       "    </tr>\n",
       "    <tr>\n",
       "      <th>2</th>\n",
       "      <td>0.256313</td>\n",
       "      <td>-0.759655</td>\n",
       "      <td>0.346382</td>\n",
       "      <td>0.319924</td>\n",
       "      <td>-0.426681</td>\n",
       "    </tr>\n",
       "    <tr>\n",
       "      <th>3</th>\n",
       "      <td>0.171103</td>\n",
       "      <td>0.217885</td>\n",
       "      <td>-0.259142</td>\n",
       "      <td>0.343172</td>\n",
       "      <td>-0.104724</td>\n",
       "    </tr>\n",
       "    <tr>\n",
       "      <th>4</th>\n",
       "      <td>1.571588</td>\n",
       "      <td>-0.169481</td>\n",
       "      <td>0.608464</td>\n",
       "      <td>-1.578547</td>\n",
       "      <td>-0.299968</td>\n",
       "    </tr>\n",
       "  </tbody>\n",
       "</table>\n",
       "</div>"
      ],
      "text/plain": [
       "        PC1       PC2       PC3       PC4       PC5\n",
       "0  1.870306  0.107272 -0.824864  0.182916 -0.124208\n",
       "1  0.964927 -0.043260 -0.077355  0.543343 -1.074861\n",
       "2  0.256313 -0.759655  0.346382  0.319924 -0.426681\n",
       "3  0.171103  0.217885 -0.259142  0.343172 -0.104724\n",
       "4  1.571588 -0.169481  0.608464 -1.578547 -0.299968"
      ]
     },
     "execution_count": 14,
     "metadata": {},
     "output_type": "execute_result"
    }
   ],
   "source": [
    "# check data structure\n",
    "pca_pred_train.head()"
   ]
  },
  {
   "cell_type": "markdown",
   "metadata": {},
   "source": [
    "Drop PC5 as PC1 to PC4 together explains more than 90% of the variables."
   ]
  },
  {
   "cell_type": "code",
   "execution_count": 15,
   "metadata": {},
   "outputs": [],
   "source": [
    "pca_pred_train = pca_pred_train.drop('PC5', axis = 1)"
   ]
  },
  {
   "cell_type": "markdown",
   "metadata": {},
   "source": [
    "sanity check with linear regression that PC1 - PC4 would be sufficient to explain the dependent variable."
   ]
  },
  {
   "cell_type": "code",
   "execution_count": 16,
   "metadata": {},
   "outputs": [
    {
     "name": "stdout",
     "output_type": "stream",
     "text": [
      "The estimated coefficients:  [[ 0.96639532  0.8831797   1.02343372 -0.00511068]]\n",
      "The estimated intercept (e.g., eta_0$):  [1.93156002]\n",
      "R^2 for test: 0.84\n"
     ]
    }
   ],
   "source": [
    "reg = LogisticRegression()\n",
    "reg.fit(pca_pred_train, train_data['travel_mode'])\n",
    "print('The estimated coefficients: ', reg.coef_)\n",
    "print('The estimated intercept (e.g., $\\beta_0$): ', reg.intercept_)\n",
    "print('R^2 for test: %.2f' % reg.score(pca_pred_train, train_data['travel_mode']))"
   ]
  },
  {
   "cell_type": "markdown",
   "metadata": {},
   "source": [
    "Conduct PCA for test data"
   ]
  },
  {
   "cell_type": "code",
   "execution_count": 17,
   "metadata": {},
   "outputs": [
    {
     "name": "stdout",
     "output_type": "stream",
     "text": [
      "variance_ratio of each PC: [0.35617, 0.25076, 0.19475, 0.13122, 0.06709]\n"
     ]
    },
    {
     "data": {
      "text/plain": [
       "<Figure size 640x480 with 0 Axes>"
      ]
     },
     "metadata": {},
     "output_type": "display_data"
    },
    {
     "data": {
      "image/png": "[encoded data removed]",
      "text/plain": [
       "<Figure size 640x480 with 1 Axes>"
      ]
     },
     "metadata": {},
     "output_type": "display_data"
    },
    {
     "name": "stdout",
     "output_type": "stream",
     "text": [
      "    TrvlTime_number       Age indiv_trvl_frequency     HHVeh    HHsize\n",
      "PC1        0.009266 -0.017310             0.650959  0.660851  0.373018\n",
      "PC2        0.326136  0.737277             0.150936  0.173725 -0.545066\n",
      "PC3        0.942204 -0.248020            -0.117407 -0.012340  0.191836\n",
      "PC4       -0.016801  0.625971            -0.263940 -0.130839  0.721869\n",
      "PC5        0.074286  0.052636             0.685581 -0.718209  0.076582\n"
     ]
    },
    {
     "data": {
      "image/png": "[encoded data removed]",
      "text/plain": [
       "<Figure size 800x700 with 6 Axes>"
      ]
     },
     "metadata": {},
     "output_type": "display_data"
    }
   ],
   "source": [
    "pca_pred_test = executePCA(test_data_std)"
   ]
  },
  {
   "cell_type": "code",
   "execution_count": 18,
   "metadata": {},
   "outputs": [],
   "source": [
    "pca_pred_test = pca_pred_test.drop('PC5', axis = 1)"
   ]
  },
  {
   "cell_type": "code",
   "execution_count": 19,
   "metadata": {},
   "outputs": [
    {
     "name": "stdout",
     "output_type": "stream",
     "text": [
      "The estimated coefficients:  [[ 1.02581852  0.67808653  0.24311826 -0.22949893]]\n",
      "The estimated intercept (e.g., eta_0$):  [1.77368572]\n",
      "R^2 for test: 0.84\n"
     ]
    }
   ],
   "source": [
    "reg = LogisticRegression()\n",
    "reg.fit(pca_pred_test, test_data['travel_mode'])\n",
    "print('The estimated coefficients: ', reg.coef_)\n",
    "print('The estimated intercept (e.g., $\\beta_0$): ', reg.intercept_)\n",
    "print('R^2 for test: %.2f' % reg.score(pca_pred_test, test_data['travel_mode']))"
   ]
  },
  {
   "cell_type": "markdown",
   "metadata": {},
   "source": [
    "<hr style=\"border-top: 0.5px solid #b;\">\n",
    "<b style=\"font-size: 22px;\">Task3</b> <h style=\"font-size: 18px;\">  : Model Building and Evaluation: Implement the clustering algorithms and evaluate their performance. You should report the accuracy and precision (for the prediction of car mode) of each model on the test set. </h>\n",
    "<hr style=\"border-top: 0.5px solid #b;\">"
   ]
  },
  {
   "cell_type": "markdown",
   "metadata": {},
   "source": [
    "##### 1) K-Means\n"
   ]
  },
  {
   "cell_type": "markdown",
   "metadata": {},
   "source": [
    "Given the clustering result varies quite a lot for each run, I conduct each clustering for 40 runs and extract the one with the score (accurary + precision)"
   ]
  },
  {
   "cell_type": "markdown",
   "metadata": {},
   "source": [
    "for trial data"
   ]
  },
  {
   "cell_type": "code",
   "execution_count": 20,
   "metadata": {},
   "outputs": [],
   "source": [
    "# ignore warnings message\n",
    "warnings.filterwarnings(\"ignore\")\n",
    "\n",
    "# Number of runs\n",
    "n_runs = 40\n",
    "\n",
    "# Initialize varaiables\n",
    "best_kmeans = None\n",
    "best_score = -1 \n",
    "\n",
    "# Perform K-means multiple times and reserve the one with the highest accuracy\n",
    "for _ in range(n_runs):\n",
    "    kmeans = KMeans(n_clusters=2)\n",
    "    kmeans_train_preds = kmeans.fit_predict(pca_pred_train)\n",
    "    \n",
    "    kmeans_accuracy = accuracy_score(train_data['travel_mode'], kmeans_train_preds)\n",
    "    kmeans_precision = precision_score(train_data['travel_mode'], kmeans_train_preds)\n",
    "    kmean_total_score =  kmeans_accuracy + kmeans_precision\n",
    "\n",
    "    if  kmean_total_score > best_score:\n",
    "        best_score = kmean_total_score\n",
    "        best_kmeans = kmeans\n",
    "\n",
    "# Predict with the best K-means model\n",
    "kmeans_train_preds = best_kmeans.fit_predict(pca_pred_train)"
   ]
  },
  {
   "cell_type": "markdown",
   "metadata": {},
   "source": [
    "for test data"
   ]
  },
  {
   "cell_type": "code",
   "execution_count": 21,
   "metadata": {},
   "outputs": [],
   "source": [
    "kmeans_test_preds = best_kmeans.fit_predict(pca_pred_test)"
   ]
  },
  {
   "cell_type": "markdown",
   "metadata": {},
   "source": [
    "store both results into one dataframe"
   ]
  },
  {
   "cell_type": "code",
   "execution_count": 22,
   "metadata": {},
   "outputs": [],
   "source": [
    "kmean_train_df = pd.DataFrame({'y': train_data['travel_mode'],\n",
    "                               'y_hat' : kmeans_train_preds})\n",
    "kmean_test_df = pd.DataFrame({'y': test_data['travel_mode'],\n",
    "                              'y_hat' : kmeans_test_preds}\n",
    "                              )"
   ]
  },
  {
   "cell_type": "markdown",
   "metadata": {},
   "source": [
    "Result: Trial"
   ]
  },
  {
   "cell_type": "code",
   "execution_count": 25,
   "metadata": {},
   "outputs": [
    {
     "data": {
      "image/png": "[encoded data removed]",
      "text/plain": [
       "<Figure size 600x400 with 1 Axes>"
      ]
     },
     "metadata": {},
     "output_type": "display_data"
    },
    {
     "name": "stdout",
     "output_type": "stream",
     "text": [
      "Accuracy: 0.42\n",
      "Precision: 0.73\n"
     ]
    }
   ],
   "source": [
    "# Calculate the confusion matrix\n",
    "confusion_mat = confusion_matrix(kmean_train_df['y'], kmean_train_df['y_hat'])\n",
    "\n",
    "# Create a heatmap of the confusion matrix\n",
    "plt.figure(figsize=(6, 4))\n",
    "sns.heatmap(confusion_mat, annot=True, fmt='d', cmap='Blues', cbar=False)\n",
    "plt.xlabel('Predicted')\n",
    "plt.ylabel('True')\n",
    "plt.title('Kmean Confusion Matrix')\n",
    "plt.show()\n",
    "\n",
    "# Evaluate K-means\n",
    "kmeans_accuracy = accuracy_score(train_data['travel_mode'], kmeans_train_preds)\n",
    "kmeans_precision = precision_score(train_data['travel_mode'], kmeans_train_preds)\n",
    "\n",
    "print(f\"Accuracy: {kmeans_accuracy:.2f}\")\n",
    "print(f\"Precision: {kmeans_precision:.2f}\")"
   ]
  },
  {
   "cell_type": "markdown",
   "metadata": {},
   "source": [
    "Result: Test"
   ]
  },
  {
   "cell_type": "code",
   "execution_count": 27,
   "metadata": {},
   "outputs": [
    {
     "data": {
      "image/png": "[encoded data removed]",
      "text/plain": [
       "<Figure size 600x400 with 1 Axes>"
      ]
     },
     "metadata": {},
     "output_type": "display_data"
    },
    {
     "name": "stdout",
     "output_type": "stream",
     "text": [
      "Accuracy: 0.55\n",
      "Precision: 0.86\n"
     ]
    }
   ],
   "source": [
    "# Calculate the confusion matrix\n",
    "confusion_mat = confusion_matrix(kmean_test_df['y'], kmean_test_df['y_hat'])\n",
    "\n",
    "# Create a heatmap of the confusion matrix\n",
    "plt.figure(figsize=(6, 4))\n",
    "sns.heatmap(confusion_mat, annot=True, fmt='d', cmap='Blues', cbar=False)\n",
    "plt.xlabel('Predicted')\n",
    "plt.ylabel('True')\n",
    "plt.title('Kmean Confusion Matrix')\n",
    "plt.show()\n",
    "\n",
    "# Evaluate K-means\n",
    "kmeans_accuracy = accuracy_score(test_data['travel_mode'], kmeans_test_preds)\n",
    "kmeans_precision = precision_score(test_data['travel_mode'], kmeans_test_preds)\n",
    "\n",
    "print(f\"Accuracy: {kmeans_accuracy:.2f}\")\n",
    "print(f\"Precision: {kmeans_precision:.2f}\")"
   ]
  },
  {
   "cell_type": "markdown",
   "metadata": {},
   "source": [
    "##### 2) Gaussian Mixture"
   ]
  },
  {
   "cell_type": "markdown",
   "metadata": {},
   "source": [
    "for trial data"
   ]
  },
  {
   "cell_type": "code",
   "execution_count": 28,
   "metadata": {},
   "outputs": [],
   "source": [
    "# Initialize varaiables\n",
    "best_gmm = None\n",
    "best_score = -1 \n",
    "\n",
    "# Perform K-means multiple times and reserve the one with the highest accuracy\n",
    "for _ in range(n_runs):\n",
    "    gmm = GaussianMixture(n_components=2)\n",
    "    gmm_train_preds = gmm.fit_predict(pca_pred_train)\n",
    "    \n",
    "    gmm_accuracy = accuracy_score(train_data['travel_mode'], gmm_train_preds)\n",
    "    gmm_precision = precision_score(train_data['travel_mode'], kmeans_train_preds)\n",
    "    gmm_total_score =  gmm_accuracy + gmm_precision\n",
    "    \n",
    "    if  gmm_total_score > best_score:\n",
    "        best_score = gmm_total_score\n",
    "        best_gmm = gmm\n",
    "\n",
    "# Predict with the best K-means model\n",
    "gmm_train_preds = best_gmm.fit_predict(pca_pred_train)"
   ]
  },
  {
   "cell_type": "markdown",
   "metadata": {},
   "source": [
    "for test data"
   ]
  },
  {
   "cell_type": "code",
   "execution_count": 29,
   "metadata": {},
   "outputs": [],
   "source": [
    "gmm_test_preds = best_gmm.fit_predict(pca_pred_test)"
   ]
  },
  {
   "cell_type": "code",
   "execution_count": 30,
   "metadata": {},
   "outputs": [],
   "source": [
    "gmm_train_df = pd.DataFrame({'y': train_data['travel_mode'],\n",
    "                             'y_hat' : gmm_train_preds})\n",
    "gmm_test_df = pd.DataFrame({'y': test_data['travel_mode'],\n",
    "                            'y_hat' : gmm_test_preds})"
   ]
  },
  {
   "cell_type": "code",
   "execution_count": 31,
   "metadata": {},
   "outputs": [
    {
     "data": {
      "text/html": [
       "<div>\n",
       "<style scoped>\n",
       "    .dataframe tbody tr th:only-of-type {\n",
       "        vertical-align: middle;\n",
       "    }\n",
       "\n",
       "    .dataframe tbody tr th {\n",
       "        vertical-align: top;\n",
       "    }\n",
       "\n",
       "    .dataframe thead th {\n",
       "        text-align: right;\n",
       "    }\n",
       "</style>\n",
       "<table border=\"1\" class=\"dataframe\">\n",
       "  <thead>\n",
       "    <tr style=\"text-align: right;\">\n",
       "      <th></th>\n",
       "      <th>y</th>\n",
       "      <th>y_hat</th>\n",
       "    </tr>\n",
       "  </thead>\n",
       "  <tbody>\n",
       "    <tr>\n",
       "      <th>0</th>\n",
       "      <td>0</td>\n",
       "      <td>0</td>\n",
       "    </tr>\n",
       "    <tr>\n",
       "      <th>1</th>\n",
       "      <td>1</td>\n",
       "      <td>0</td>\n",
       "    </tr>\n",
       "    <tr>\n",
       "      <th>2</th>\n",
       "      <td>1</td>\n",
       "      <td>0</td>\n",
       "    </tr>\n",
       "    <tr>\n",
       "      <th>3</th>\n",
       "      <td>1</td>\n",
       "      <td>0</td>\n",
       "    </tr>\n",
       "    <tr>\n",
       "      <th>4</th>\n",
       "      <td>1</td>\n",
       "      <td>1</td>\n",
       "    </tr>\n",
       "  </tbody>\n",
       "</table>\n",
       "</div>"
      ],
      "text/plain": [
       "   y  y_hat\n",
       "0  0      0\n",
       "1  1      0\n",
       "2  1      0\n",
       "3  1      0\n",
       "4  1      1"
      ]
     },
     "execution_count": 31,
     "metadata": {},
     "output_type": "execute_result"
    }
   ],
   "source": [
    "gmm_train_df.head()"
   ]
  },
  {
   "cell_type": "markdown",
   "metadata": {},
   "source": [
    "Result: Trial"
   ]
  },
  {
   "cell_type": "code",
   "execution_count": 32,
   "metadata": {},
   "outputs": [
    {
     "name": "stdout",
     "output_type": "stream",
     "text": [
      "Accuracy: 0.40\n",
      "Precision: 0.95\n"
     ]
    },
    {
     "data": {
      "image/png": "[encoded data removed]",
      "text/plain": [
       "<Figure size 600x400 with 1 Axes>"
      ]
     },
     "metadata": {},
     "output_type": "display_data"
    }
   ],
   "source": [
    "# Calculate the confusion matrix\n",
    "confusion_mat = confusion_matrix(gmm_train_df['y'], gmm_train_df['y_hat'])\n",
    "\n",
    "# Create a heatmap of the confusion matrix\n",
    "plt.figure(figsize=(6, 4))\n",
    "sns.heatmap(confusion_mat, annot=True, fmt='d', cmap='Blues', cbar=False)\n",
    "plt.xlabel('Predicted')\n",
    "plt.ylabel('True')\n",
    "plt.title('Gaussian Mixture Confusion Matrix')\n",
    "plt.show\n",
    "\n",
    "# Evaluate K-means\n",
    "gmm_accuracy = accuracy_score(train_data['travel_mode'], gmm_train_preds)\n",
    "gmm_precision = precision_score(train_data['travel_mode'], gmm_train_preds)\n",
    "\n",
    "print(f\"Accuracy: {gmm_accuracy:.2f}\")\n",
    "print(f\"Precision: {gmm_precision:.2f}\")"
   ]
  },
  {
   "cell_type": "markdown",
   "metadata": {},
   "source": [
    "Result: Test"
   ]
  },
  {
   "cell_type": "code",
   "execution_count": 33,
   "metadata": {},
   "outputs": [
    {
     "data": {
      "image/png": "[encoded data removed]",
      "text/plain": [
       "<Figure size 600x400 with 1 Axes>"
      ]
     },
     "metadata": {},
     "output_type": "display_data"
    },
    {
     "name": "stdout",
     "output_type": "stream",
     "text": [
      "Accuracy: 0.33\n",
      "Precision: 0.95\n"
     ]
    }
   ],
   "source": [
    "# Calculate the confusion matrix\n",
    "confusion_mat = confusion_matrix(gmm_test_df['y'], gmm_test_df['y_hat'])\n",
    "\n",
    "# Create a heatmap of the confusion matrix\n",
    "plt.figure(figsize=(6, 4))\n",
    "sns.heatmap(confusion_mat, annot=True, fmt='d', cmap='Blues', cbar=False)\n",
    "plt.xlabel('Predicted')\n",
    "plt.ylabel('True')\n",
    "plt.title('Gaussian Mixture Confusion Matrix')\n",
    "plt.show()\n",
    "\n",
    "# Evaluate K-means\n",
    "gmm_accuracy = accuracy_score(test_data['travel_mode'], gmm_test_preds)\n",
    "gmm_precision = precision_score(test_data['travel_mode'], gmm_test_preds)\n",
    "\n",
    "print(f\"Accuracy: {gmm_accuracy:.2f}\")\n",
    "print(f\"Precision: {gmm_precision:.2f}\")"
   ]
  },
  {
   "cell_type": "markdown",
   "metadata": {},
   "source": [
    "- Both models were able to learn the high-level patterns of the data but not entirely satisfactory model \n",
    "accuracy. Both also have moderately high ability to project travel mode = 1 (by car) or True Positive. \n",
    "- The most prevalent difference between the two models is the ability to generalize the model. GMM’s \n",
    "capability of capturing non-spherical clusters (where kmean generally assumes spherical clusters with \n",
    "similar size) potentially enabled it to hand a wider range of distribution and thus the ability to deal with \n",
    "unseen data.\n"
   ]
  }
 ],
 "metadata": {
  "kernelspec": {
   "display_name": "Python 3",
   "language": "python",
   "name": "python3"
  },
  "language_info": {
   "codemirror_mode": {
    "name": "ipython",
    "version": 3
   },
   "file_extension": ".py",
   "mimetype": "text/x-python",
   "name": "python",
   "nbconvert_exporter": "python",
   "pygments_lexer": "ipython3",
   "version": "3.11.7"
  }
 },
 "nbformat": 4,
 "nbformat_minor": 2
}
